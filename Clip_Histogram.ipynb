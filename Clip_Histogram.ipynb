{
 "cells": [
  {
   "cell_type": "code",
   "execution_count": 4,
   "metadata": {},
   "outputs": [
    {
     "name": "stderr",
     "output_type": "stream",
     "text": [
      "C:\\Users\\KarlRoberts\\AppData\\Local\\Temp\\ipykernel_28100\\567647556.py:29: DeprecationWarning: Conversion of an array with ndim > 0 to a scalar is deprecated, and will error in future. Ensure you extract a single element from your array before performing this operation. (Deprecated NumPy 1.25.)\n",
      "  accumulator.append(float(hist[0]))\n",
      "C:\\Users\\KarlRoberts\\AppData\\Local\\Temp\\ipykernel_28100\\567647556.py:31: DeprecationWarning: Conversion of an array with ndim > 0 to a scalar is deprecated, and will error in future. Ensure you extract a single element from your array before performing this operation. (Deprecated NumPy 1.25.)\n",
      "  accumulator.append(accumulator[index - 1] + float(hist[index]))\n"
     ]
    },
    {
     "name": "stdout",
     "output_type": "stream",
     "text": [
      "Processed image: Z:\\\\Personal\\\\Karl\\\\Auto_WB_\\\\Processed_Frames\\\\pranjalibajapi_complete_optimised_workflow\\\\Start_to_finish\\\\Bikini_test_processed\\\\Pranj_and_clip_hist_B+G\\20230822 - GP1-SEA MOUNT.0016022.JPG\n",
      "Processed image: Z:\\\\Personal\\\\Karl\\\\Auto_WB_\\\\Processed_Frames\\\\pranjalibajapi_complete_optimised_workflow\\\\Start_to_finish\\\\Bikini_test_processed\\\\Pranj_and_clip_hist_B+G\\20230822 - GP1-SEA MOUNT.0016094.JPG\n",
      "Processed image: Z:\\\\Personal\\\\Karl\\\\Auto_WB_\\\\Processed_Frames\\\\pranjalibajapi_complete_optimised_workflow\\\\Start_to_finish\\\\Bikini_test_processed\\\\Pranj_and_clip_hist_B+G\\20230822 - GP1-SEA MOUNT.0016164.JPG\n",
      "Processed image: Z:\\\\Personal\\\\Karl\\\\Auto_WB_\\\\Processed_Frames\\\\pranjalibajapi_complete_optimised_workflow\\\\Start_to_finish\\\\Bikini_test_processed\\\\Pranj_and_clip_hist_B+G\\20230822 - GP1-SEA MOUNT.0016237.JPG\n",
      "Processed image: Z:\\\\Personal\\\\Karl\\\\Auto_WB_\\\\Processed_Frames\\\\pranjalibajapi_complete_optimised_workflow\\\\Start_to_finish\\\\Bikini_test_processed\\\\Pranj_and_clip_hist_B+G\\20230822 - GP1-SEA MOUNT.0016327.JPG\n",
      "Processed image: Z:\\\\Personal\\\\Karl\\\\Auto_WB_\\\\Processed_Frames\\\\pranjalibajapi_complete_optimised_workflow\\\\Start_to_finish\\\\Bikini_test_processed\\\\Pranj_and_clip_hist_B+G\\20230822 - GP1-SEA MOUNT.0016382.JPG\n",
      "Processed image: Z:\\\\Personal\\\\Karl\\\\Auto_WB_\\\\Processed_Frames\\\\pranjalibajapi_complete_optimised_workflow\\\\Start_to_finish\\\\Bikini_test_processed\\\\Pranj_and_clip_hist_B+G\\20230822 - GP1-SEA MOUNT.0020809.JPG\n",
      "Processed image: Z:\\\\Personal\\\\Karl\\\\Auto_WB_\\\\Processed_Frames\\\\pranjalibajapi_complete_optimised_workflow\\\\Start_to_finish\\\\Bikini_test_processed\\\\Pranj_and_clip_hist_B+G\\20230822 - GP3-SEA MOUNT.0019923.JPG\n",
      "Processed image: Z:\\\\Personal\\\\Karl\\\\Auto_WB_\\\\Processed_Frames\\\\pranjalibajapi_complete_optimised_workflow\\\\Start_to_finish\\\\Bikini_test_processed\\\\Pranj_and_clip_hist_B+G\\20230822 - GP3-SEA MOUNT.0024054.JPG\n",
      "Processed image: Z:\\\\Personal\\\\Karl\\\\Auto_WB_\\\\Processed_Frames\\\\pranjalibajapi_complete_optimised_workflow\\\\Start_to_finish\\\\Bikini_test_processed\\\\Pranj_and_clip_hist_B+G\\20230822 - GP3-SEA MOUNT.0027054.JPG\n"
     ]
    }
   ],
   "source": [
    "#Clipping hist + contrast code https://stackoverflow.com/questions/56905592/automatic-contrast-and-brightness-adjustment-of-a-color-photo-of-a-sheet-of-pape\n",
    "\n",
    "import os\n",
    "import cv2\n",
    "import numpy as np\n",
    "\n",
    "# Automatic brightness and contrast optimization with optional histogram clipping\n",
    "def automatic_brightness_and_contrast(image, clip_hist_percent=1):\n",
    "    gray = cv2.cvtColor(image, cv2.COLOR_BGR2GRAY)\n",
    "\n",
    "    # Calculate grayscale histogram\n",
    "    hist = cv2.calcHist([gray], [0], None, [256], [0, 256])\n",
    "    hist_size = len(hist)\n",
    "\n",
    "    # Calculate cumulative distribution from the histogram\n",
    "    accumulator = []\n",
    "    accumulator.append(float(hist[0]))  \n",
    "    for index in range(1, hist_size):\n",
    "        accumulator.append(accumulator[index - 1] + float(hist[index]))\n",
    "\n",
    "    # Locate points to clip\n",
    "    maximum = accumulator[-1]\n",
    "    clip_hist_percent *= (maximum / 100.0)\n",
    "    clip_hist_percent /= 2.0\n",
    "\n",
    "    # Locate left cut\n",
    "    minimum_gray = 0\n",
    "    while accumulator[minimum_gray] < clip_hist_percent:\n",
    "        minimum_gray += 1\n",
    "\n",
    "    # Locate right cut\n",
    "    maximum_gray = hist_size - 1\n",
    "    while accumulator[maximum_gray] >= (maximum - clip_hist_percent):\n",
    "        maximum_gray -= 1\n",
    "\n",
    "    # Calculate alpha and beta values\n",
    "    alpha = 255 / (maximum_gray - minimum_gray)\n",
    "    beta = -minimum_gray * alpha\n",
    "\n",
    "    # Calculate new histogram with the desired range\n",
    "    new_hist = cv2.calcHist([gray], [0], None, [256], [minimum_gray, maximum_gray])\n",
    "\n",
    "    auto_result = cv2.convertScaleAbs(image, alpha=alpha, beta=beta)\n",
    "    return (auto_result, alpha, beta)\n",
    "\n",
    "def enhance_images_in_folder(input_folder, output_folder, clip_hist_percent=1):\n",
    "    if not os.path.exists(output_folder):\n",
    "        os.makedirs(output_folder)\n",
    "\n",
    "    valid_extensions = ('.jpg', '.JPG', '.png')\n",
    "\n",
    "    image_files = [file_name for file_name in os.listdir(input_folder) if file_name.lower().endswith(valid_extensions)]\n",
    "\n",
    "    for image_file in image_files:\n",
    "        input_path = os.path.join(input_folder, image_file)\n",
    "        image = cv2.imread(input_path)\n",
    "\n",
    "        if image is not None:\n",
    "            auto_result, _, _ = automatic_brightness_and_contrast(image, clip_hist_percent)\n",
    "            output_path = os.path.join(output_folder, image_file)\n",
    "            cv2.imwrite(output_path, auto_result)\n",
    "\n",
    "            print(f\"Processed image: {output_path}\")\n",
    "        else:\n",
    "            print(f\"Error loading image: {input_path}\")\n",
    "\n",
    "# Example usage:\n",
    "input_folder = r\"Z:\\\\Personal\\\\Karl\\\\Auto_WB_\\\\Processed_Frames\\\\pranjalibajapi_complete_optimised_workflow\\\\Start_to_finish\\\\Bikini_test_processed\\\\HSV_CL_0.8_RBSF_1.0_GBr_0.5\"\n",
    "output_folder = r\"Z:\\\\Personal\\\\Karl\\\\Auto_WB_\\\\Processed_Frames\\\\pranjalibajapi_complete_optimised_workflow\\\\Start_to_finish\\\\Bikini_test_processed\\\\Pranj_and_clip_hist\"\n",
    "clip_hist_percent = 1  # Adjust this value as needed\n",
    "enhance_images_in_folder(input_folder, output_folder, clip_hist_percent)\n"
   ]
  }
 ],
 "metadata": {
  "kernelspec": {
   "display_name": "Image_enhancement_2",
   "language": "python",
   "name": "python3"
  },
  "language_info": {
   "codemirror_mode": {
    "name": "ipython",
    "version": 3
   },
   "file_extension": ".py",
   "mimetype": "text/x-python",
   "name": "python",
   "nbconvert_exporter": "python",
   "pygments_lexer": "ipython3",
   "version": "3.10.13"
  }
 },
 "nbformat": 4,
 "nbformat_minor": 2
}
